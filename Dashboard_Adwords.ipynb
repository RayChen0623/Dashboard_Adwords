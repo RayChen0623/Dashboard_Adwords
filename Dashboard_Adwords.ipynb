{
 "cells": [
  {
   "cell_type": "code",
   "execution_count": 1,
   "metadata": {},
   "outputs": [],
   "source": [
    "import pandas as pd\n",
    "import numpy as np\n",
    "from datetime import date"
   ]
  },
  {
   "cell_type": "markdown",
   "metadata": {},
   "source": [
    "## Data Warggling "
   ]
  },
  {
   "cell_type": "code",
   "execution_count": 2,
   "metadata": {},
   "outputs": [],
   "source": [
    "df = pd.read_csv(\"AN - Sample Data - Dashboarding Exercise.csv\")"
   ]
  },
  {
   "cell_type": "code",
   "execution_count": 3,
   "metadata": {},
   "outputs": [
    {
     "data": {
      "text/html": [
       "<div>\n",
       "<style scoped>\n",
       "    .dataframe tbody tr th:only-of-type {\n",
       "        vertical-align: middle;\n",
       "    }\n",
       "\n",
       "    .dataframe tbody tr th {\n",
       "        vertical-align: top;\n",
       "    }\n",
       "\n",
       "    .dataframe thead th {\n",
       "        text-align: right;\n",
       "    }\n",
       "</style>\n",
       "<table border=\"1\" class=\"dataframe\">\n",
       "  <thead>\n",
       "    <tr style=\"text-align: right;\">\n",
       "      <th></th>\n",
       "      <th>Day</th>\n",
       "      <th>Campaign</th>\n",
       "      <th>Device</th>\n",
       "      <th>Currency</th>\n",
       "      <th>Impressions</th>\n",
       "      <th>Clicks</th>\n",
       "      <th>Cost</th>\n",
       "      <th>Conversions</th>\n",
       "      <th>Conv. value</th>\n",
       "    </tr>\n",
       "  </thead>\n",
       "  <tbody>\n",
       "    <tr>\n",
       "      <th>0</th>\n",
       "      <td>11/30/18</td>\n",
       "      <td>Campaign 156</td>\n",
       "      <td>Tablet</td>\n",
       "      <td>USD</td>\n",
       "      <td>15</td>\n",
       "      <td>0</td>\n",
       "      <td>0</td>\n",
       "      <td>0.0</td>\n",
       "      <td>0</td>\n",
       "    </tr>\n",
       "    <tr>\n",
       "      <th>1</th>\n",
       "      <td>12/24/18</td>\n",
       "      <td>Campaign 257</td>\n",
       "      <td>Tablet</td>\n",
       "      <td>USD</td>\n",
       "      <td>80</td>\n",
       "      <td>2</td>\n",
       "      <td>8.15</td>\n",
       "      <td>0.0</td>\n",
       "      <td>0</td>\n",
       "    </tr>\n",
       "    <tr>\n",
       "      <th>2</th>\n",
       "      <td>12/20/18</td>\n",
       "      <td>Campaign 156</td>\n",
       "      <td>Mobile</td>\n",
       "      <td>USD</td>\n",
       "      <td>81</td>\n",
       "      <td>1</td>\n",
       "      <td>0.73</td>\n",
       "      <td>0.0</td>\n",
       "      <td>0</td>\n",
       "    </tr>\n",
       "    <tr>\n",
       "      <th>3</th>\n",
       "      <td>11/9/18</td>\n",
       "      <td>Campaign 158</td>\n",
       "      <td>Mobile</td>\n",
       "      <td>USD</td>\n",
       "      <td>182,402</td>\n",
       "      <td>841</td>\n",
       "      <td>694.31</td>\n",
       "      <td>0.0</td>\n",
       "      <td>0</td>\n",
       "    </tr>\n",
       "    <tr>\n",
       "      <th>4</th>\n",
       "      <td>11/24/18</td>\n",
       "      <td>Campaign 111</td>\n",
       "      <td>Desktop</td>\n",
       "      <td>USD</td>\n",
       "      <td>196</td>\n",
       "      <td>1</td>\n",
       "      <td>24.62</td>\n",
       "      <td>0.0</td>\n",
       "      <td>0</td>\n",
       "    </tr>\n",
       "  </tbody>\n",
       "</table>\n",
       "</div>"
      ],
      "text/plain": [
       "        Day      Campaign   Device Currency Impressions Clicks    Cost  \\\n",
       "0  11/30/18  Campaign 156   Tablet      USD          15      0       0   \n",
       "1  12/24/18  Campaign 257   Tablet      USD          80      2    8.15   \n",
       "2  12/20/18  Campaign 156   Mobile      USD          81      1    0.73   \n",
       "3   11/9/18  Campaign 158   Mobile      USD     182,402    841  694.31   \n",
       "4  11/24/18  Campaign 111  Desktop      USD         196      1   24.62   \n",
       "\n",
       "   Conversions Conv. value  \n",
       "0          0.0           0  \n",
       "1          0.0           0  \n",
       "2          0.0           0  \n",
       "3          0.0           0  \n",
       "4          0.0           0  "
      ]
     },
     "execution_count": 3,
     "metadata": {},
     "output_type": "execute_result"
    }
   ],
   "source": [
    "df.head()"
   ]
  },
  {
   "cell_type": "code",
   "execution_count": 4,
   "metadata": {},
   "outputs": [
    {
     "name": "stdout",
     "output_type": "stream",
     "text": [
      "<class 'pandas.core.frame.DataFrame'>\n",
      "RangeIndex: 128795 entries, 0 to 128794\n",
      "Data columns (total 9 columns):\n",
      "Day            128795 non-null object\n",
      "Campaign       128795 non-null object\n",
      "Device         128795 non-null object\n",
      "Currency       128795 non-null object\n",
      "Impressions    128795 non-null object\n",
      "Clicks         128795 non-null object\n",
      "Cost           128795 non-null object\n",
      "Conversions    128795 non-null float64\n",
      "Conv. value    128795 non-null object\n",
      "dtypes: float64(1), object(8)\n",
      "memory usage: 8.8+ MB\n"
     ]
    }
   ],
   "source": [
    "df.info()"
   ]
  },
  {
   "cell_type": "code",
   "execution_count": 5,
   "metadata": {},
   "outputs": [],
   "source": [
    "df_cleaned = df"
   ]
  },
  {
   "cell_type": "markdown",
   "metadata": {},
   "source": [
    "### Transform to the right data formats"
   ]
  },
  {
   "cell_type": "code",
   "execution_count": 6,
   "metadata": {},
   "outputs": [],
   "source": [
    "df_cleaned[\"Impressions\"] = pd.to_numeric(df.Impressions.apply(lambda x: x.replace(\",\", \"\")))\n",
    "df_cleaned[\"Clicks\"] = pd.to_numeric(df.Clicks.apply(lambda x: x.replace(\",\", \"\")))\n",
    "df_cleaned[\"Cost\"] = pd.to_numeric(df.Cost.apply(lambda x: x.replace(\",\", \"\")))\n",
    "df_cleaned[\"Conv. value\"] = pd.to_numeric(df['Conv. value'].apply(lambda x: x.replace(\",\", \"\")))\n",
    "df_cleaned['Day'] = pd.to_datetime(df_cleaned['Day'])"
   ]
  },
  {
   "cell_type": "markdown",
   "metadata": {},
   "source": [
    "### Removed data without impressions"
   ]
  },
  {
   "cell_type": "code",
   "execution_count": 7,
   "metadata": {},
   "outputs": [],
   "source": [
    "df_cleaned = df_cleaned[(df_cleaned.Impressions != 0)]"
   ]
  },
  {
   "cell_type": "markdown",
   "metadata": {},
   "source": [
    "#### Sample"
   ]
  },
  {
   "cell_type": "code",
   "execution_count": 8,
   "metadata": {},
   "outputs": [
    {
     "data": {
      "text/html": [
       "<div>\n",
       "<style scoped>\n",
       "    .dataframe tbody tr th:only-of-type {\n",
       "        vertical-align: middle;\n",
       "    }\n",
       "\n",
       "    .dataframe tbody tr th {\n",
       "        vertical-align: top;\n",
       "    }\n",
       "\n",
       "    .dataframe thead th {\n",
       "        text-align: right;\n",
       "    }\n",
       "</style>\n",
       "<table border=\"1\" class=\"dataframe\">\n",
       "  <thead>\n",
       "    <tr style=\"text-align: right;\">\n",
       "      <th></th>\n",
       "      <th>Day</th>\n",
       "      <th>Campaign</th>\n",
       "      <th>Device</th>\n",
       "      <th>Currency</th>\n",
       "      <th>Impressions</th>\n",
       "      <th>Clicks</th>\n",
       "      <th>Cost</th>\n",
       "      <th>Conversions</th>\n",
       "      <th>Conv. value</th>\n",
       "    </tr>\n",
       "  </thead>\n",
       "  <tbody>\n",
       "    <tr>\n",
       "      <th>36146</th>\n",
       "      <td>2018-11-28</td>\n",
       "      <td>Campaign 539</td>\n",
       "      <td>Desktop</td>\n",
       "      <td>USD</td>\n",
       "      <td>142</td>\n",
       "      <td>2</td>\n",
       "      <td>72.96</td>\n",
       "      <td>0.0</td>\n",
       "      <td>0.0</td>\n",
       "    </tr>\n",
       "    <tr>\n",
       "      <th>56218</th>\n",
       "      <td>2018-12-13</td>\n",
       "      <td>Campaign 390</td>\n",
       "      <td>Tablet</td>\n",
       "      <td>USD</td>\n",
       "      <td>75</td>\n",
       "      <td>1</td>\n",
       "      <td>2.30</td>\n",
       "      <td>0.0</td>\n",
       "      <td>0.0</td>\n",
       "    </tr>\n",
       "    <tr>\n",
       "      <th>37981</th>\n",
       "      <td>2018-10-02</td>\n",
       "      <td>Campaign 042</td>\n",
       "      <td>Desktop</td>\n",
       "      <td>USD</td>\n",
       "      <td>121</td>\n",
       "      <td>0</td>\n",
       "      <td>0.00</td>\n",
       "      <td>0.0</td>\n",
       "      <td>0.0</td>\n",
       "    </tr>\n",
       "    <tr>\n",
       "      <th>10761</th>\n",
       "      <td>2018-11-21</td>\n",
       "      <td>Campaign 043</td>\n",
       "      <td>Mobile</td>\n",
       "      <td>USD</td>\n",
       "      <td>3016</td>\n",
       "      <td>0</td>\n",
       "      <td>0.47</td>\n",
       "      <td>0.0</td>\n",
       "      <td>0.0</td>\n",
       "    </tr>\n",
       "    <tr>\n",
       "      <th>34547</th>\n",
       "      <td>2018-11-28</td>\n",
       "      <td>Campaign 145</td>\n",
       "      <td>Tablet</td>\n",
       "      <td>USD</td>\n",
       "      <td>844</td>\n",
       "      <td>0</td>\n",
       "      <td>0.00</td>\n",
       "      <td>0.0</td>\n",
       "      <td>0.0</td>\n",
       "    </tr>\n",
       "  </tbody>\n",
       "</table>\n",
       "</div>"
      ],
      "text/plain": [
       "             Day      Campaign   Device Currency  Impressions  Clicks   Cost  \\\n",
       "36146 2018-11-28  Campaign 539  Desktop      USD          142       2  72.96   \n",
       "56218 2018-12-13  Campaign 390   Tablet      USD           75       1   2.30   \n",
       "37981 2018-10-02  Campaign 042  Desktop      USD          121       0   0.00   \n",
       "10761 2018-11-21  Campaign 043   Mobile      USD         3016       0   0.47   \n",
       "34547 2018-11-28  Campaign 145   Tablet      USD          844       0   0.00   \n",
       "\n",
       "       Conversions  Conv. value  \n",
       "36146          0.0          0.0  \n",
       "56218          0.0          0.0  \n",
       "37981          0.0          0.0  \n",
       "10761          0.0          0.0  \n",
       "34547          0.0          0.0  "
      ]
     },
     "execution_count": 8,
     "metadata": {},
     "output_type": "execute_result"
    }
   ],
   "source": [
    "df_cleaned.sample(5)"
   ]
  },
  {
   "cell_type": "markdown",
   "metadata": {},
   "source": [
    "#### Overview"
   ]
  },
  {
   "cell_type": "code",
   "execution_count": 9,
   "metadata": {},
   "outputs": [
    {
     "name": "stdout",
     "output_type": "stream",
     "text": [
      "<class 'pandas.core.frame.DataFrame'>\n",
      "Int64Index: 125275 entries, 0 to 128794\n",
      "Data columns (total 9 columns):\n",
      "Day            125275 non-null datetime64[ns]\n",
      "Campaign       125275 non-null object\n",
      "Device         125275 non-null object\n",
      "Currency       125275 non-null object\n",
      "Impressions    125275 non-null int64\n",
      "Clicks         125275 non-null int64\n",
      "Cost           125275 non-null float64\n",
      "Conversions    125275 non-null float64\n",
      "Conv. value    125275 non-null float64\n",
      "dtypes: datetime64[ns](1), float64(3), int64(2), object(3)\n",
      "memory usage: 9.6+ MB\n"
     ]
    }
   ],
   "source": [
    "df_cleaned.info()"
   ]
  },
  {
   "cell_type": "markdown",
   "metadata": {},
   "source": [
    "### Created the useful and meaningful metrics to monitor the Adwords campaign performance"
   ]
  },
  {
   "cell_type": "code",
   "execution_count": 10,
   "metadata": {},
   "outputs": [
    {
     "name": "stderr",
     "output_type": "stream",
     "text": [
      "/Applications/anaconda3/lib/python3.7/site-packages/ipykernel_launcher.py:1: SettingWithCopyWarning: \n",
      "A value is trying to be set on a copy of a slice from a DataFrame.\n",
      "Try using .loc[row_indexer,col_indexer] = value instead\n",
      "\n",
      "See the caveats in the documentation: http://pandas.pydata.org/pandas-docs/stable/indexing.html#indexing-view-versus-copy\n",
      "  \"\"\"Entry point for launching an IPython kernel.\n"
     ]
    }
   ],
   "source": [
    "df_cleaned['Cost per conversion'] = (df_cleaned.Cost / df_cleaned.Conversions).fillna(0)"
   ]
  },
  {
   "cell_type": "code",
   "execution_count": 11,
   "metadata": {},
   "outputs": [
    {
     "name": "stderr",
     "output_type": "stream",
     "text": [
      "/Applications/anaconda3/lib/python3.7/site-packages/ipykernel_launcher.py:1: SettingWithCopyWarning: \n",
      "A value is trying to be set on a copy of a slice from a DataFrame.\n",
      "Try using .loc[row_indexer,col_indexer] = value instead\n",
      "\n",
      "See the caveats in the documentation: http://pandas.pydata.org/pandas-docs/stable/indexing.html#indexing-view-versus-copy\n",
      "  \"\"\"Entry point for launching an IPython kernel.\n"
     ]
    }
   ],
   "source": [
    "df_cleaned['ROI'] = (df_cleaned['Conv. value'] / df_cleaned['Cost']).fillna(0) #Conversion value per cost"
   ]
  },
  {
   "cell_type": "code",
   "execution_count": 12,
   "metadata": {},
   "outputs": [
    {
     "name": "stderr",
     "output_type": "stream",
     "text": [
      "/Applications/anaconda3/lib/python3.7/site-packages/ipykernel_launcher.py:1: SettingWithCopyWarning: \n",
      "A value is trying to be set on a copy of a slice from a DataFrame.\n",
      "Try using .loc[row_indexer,col_indexer] = value instead\n",
      "\n",
      "See the caveats in the documentation: http://pandas.pydata.org/pandas-docs/stable/indexing.html#indexing-view-versus-copy\n",
      "  \"\"\"Entry point for launching an IPython kernel.\n"
     ]
    }
   ],
   "source": [
    "df_cleaned['Conversion rate'] = (df_cleaned.Conversions / df_cleaned.Clicks).fillna(0)"
   ]
  },
  {
   "cell_type": "code",
   "execution_count": 13,
   "metadata": {},
   "outputs": [
    {
     "name": "stderr",
     "output_type": "stream",
     "text": [
      "/Applications/anaconda3/lib/python3.7/site-packages/ipykernel_launcher.py:1: SettingWithCopyWarning: \n",
      "A value is trying to be set on a copy of a slice from a DataFrame.\n",
      "Try using .loc[row_indexer,col_indexer] = value instead\n",
      "\n",
      "See the caveats in the documentation: http://pandas.pydata.org/pandas-docs/stable/indexing.html#indexing-view-versus-copy\n",
      "  \"\"\"Entry point for launching an IPython kernel.\n"
     ]
    }
   ],
   "source": [
    "df_cleaned['Conversion value per click '] = (df_cleaned['Conv. value'] / df_cleaned['Clicks']).fillna(0)"
   ]
  },
  {
   "cell_type": "code",
   "execution_count": 14,
   "metadata": {},
   "outputs": [
    {
     "name": "stderr",
     "output_type": "stream",
     "text": [
      "/Applications/anaconda3/lib/python3.7/site-packages/ipykernel_launcher.py:1: SettingWithCopyWarning: \n",
      "A value is trying to be set on a copy of a slice from a DataFrame.\n",
      "Try using .loc[row_indexer,col_indexer] = value instead\n",
      "\n",
      "See the caveats in the documentation: http://pandas.pydata.org/pandas-docs/stable/indexing.html#indexing-view-versus-copy\n",
      "  \"\"\"Entry point for launching an IPython kernel.\n"
     ]
    }
   ],
   "source": [
    "df_cleaned['Value per conversion'] = (df_cleaned['Conv. value'] / df_cleaned['Conversions']).fillna(0)"
   ]
  },
  {
   "cell_type": "code",
   "execution_count": 15,
   "metadata": {},
   "outputs": [
    {
     "name": "stderr",
     "output_type": "stream",
     "text": [
      "/Applications/anaconda3/lib/python3.7/site-packages/ipykernel_launcher.py:1: SettingWithCopyWarning: \n",
      "A value is trying to be set on a copy of a slice from a DataFrame.\n",
      "Try using .loc[row_indexer,col_indexer] = value instead\n",
      "\n",
      "See the caveats in the documentation: http://pandas.pydata.org/pandas-docs/stable/indexing.html#indexing-view-versus-copy\n",
      "  \"\"\"Entry point for launching an IPython kernel.\n"
     ]
    }
   ],
   "source": [
    "df_cleaned['CTR(%)'] = round((df_cleaned.Clicks / df_cleaned.Impressions) * 100, 2)"
   ]
  },
  {
   "cell_type": "code",
   "execution_count": 16,
   "metadata": {},
   "outputs": [
    {
     "name": "stderr",
     "output_type": "stream",
     "text": [
      "/Applications/anaconda3/lib/python3.7/site-packages/ipykernel_launcher.py:1: SettingWithCopyWarning: \n",
      "A value is trying to be set on a copy of a slice from a DataFrame.\n",
      "Try using .loc[row_indexer,col_indexer] = value instead\n",
      "\n",
      "See the caveats in the documentation: http://pandas.pydata.org/pandas-docs/stable/indexing.html#indexing-view-versus-copy\n",
      "  \"\"\"Entry point for launching an IPython kernel.\n"
     ]
    }
   ],
   "source": [
    "df_cleaned['CTR'] = (df_cleaned['Conv. value'] / df_cleaned['Conversions']).fillna(0)"
   ]
  },
  {
   "cell_type": "code",
   "execution_count": 17,
   "metadata": {},
   "outputs": [
    {
     "name": "stderr",
     "output_type": "stream",
     "text": [
      "/Applications/anaconda3/lib/python3.7/site-packages/ipykernel_launcher.py:1: SettingWithCopyWarning: \n",
      "A value is trying to be set on a copy of a slice from a DataFrame.\n",
      "Try using .loc[row_indexer,col_indexer] = value instead\n",
      "\n",
      "See the caveats in the documentation: http://pandas.pydata.org/pandas-docs/stable/indexing.html#indexing-view-versus-copy\n",
      "  \"\"\"Entry point for launching an IPython kernel.\n"
     ]
    }
   ],
   "source": [
    "df_cleaned['Profits'] = df_cleaned['Conv. value'] - df_cleaned.Cost"
   ]
  },
  {
   "cell_type": "code",
   "execution_count": 18,
   "metadata": {},
   "outputs": [
    {
     "name": "stderr",
     "output_type": "stream",
     "text": [
      "/Applications/anaconda3/lib/python3.7/site-packages/ipykernel_launcher.py:1: SettingWithCopyWarning: \n",
      "A value is trying to be set on a copy of a slice from a DataFrame.\n",
      "Try using .loc[row_indexer,col_indexer] = value instead\n",
      "\n",
      "See the caveats in the documentation: http://pandas.pydata.org/pandas-docs/stable/indexing.html#indexing-view-versus-copy\n",
      "  \"\"\"Entry point for launching an IPython kernel.\n"
     ]
    }
   ],
   "source": [
    "df_cleaned['Channel'] = np.where(df_cleaned.Cost == 0, 'Organic', 'Paid')"
   ]
  },
  {
   "cell_type": "markdown",
   "metadata": {},
   "source": [
    "## Saved it as new dataset "
   ]
  },
  {
   "cell_type": "code",
   "execution_count": 19,
   "metadata": {},
   "outputs": [],
   "source": [
    "df_cleaned.to_csv('AN_Assignment_new.csv')"
   ]
  }
 ],
 "metadata": {
  "kernelspec": {
   "display_name": "Python 3",
   "language": "python",
   "name": "python3"
  },
  "language_info": {
   "codemirror_mode": {
    "name": "ipython",
    "version": 3
   },
   "file_extension": ".py",
   "mimetype": "text/x-python",
   "name": "python",
   "nbconvert_exporter": "python",
   "pygments_lexer": "ipython3",
   "version": "3.7.0"
  }
 },
 "nbformat": 4,
 "nbformat_minor": 2
}
